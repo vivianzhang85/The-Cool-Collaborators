{
 "cells": [
  {
   "cell_type": "markdown",
   "id": "560e6216",
   "metadata": {},
   "source": [
    "## Welcome Computer Scientists!\n",
    "### Scroll through this guide to learn computer science basics and how to trouble shoot if you have issues!"
   ]
  },
  {
   "cell_type": "markdown",
   "id": "a924f301",
   "metadata": {},
   "source": [
    "# 🐍 Fixing Python venv When It’s Not Working (Example with Alice)\n",
    "\n",
    "Virtual environments (`venv`) are essential in Python projects because they keep your dependencies isolated. But sometimes, they just **don’t work the way you expect** — whether that’s in the terminal, or inside VS Code.\n",
    "\n",
    "Here’s a quick walkthrough using an example with Alice, plus some common fixes.\n",
    "\n",
    "---\n",
    "\n",
    "## ✅ Step 1: Create and Activate a venv\n",
    "\n",
    "First, make sure you’re inside your project folder:\n",
    "\n",
    "```bash\n",
    "cd myproject\n",
    "\n"
   ]
  }
 ],
 "metadata": {
  "language_info": {
   "name": "python"
  }
 },
 "nbformat": 4,
 "nbformat_minor": 5
}
