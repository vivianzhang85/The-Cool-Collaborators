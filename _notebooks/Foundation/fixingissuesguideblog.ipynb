{
 "cells": [
  {
   "cell_type": "markdown",
   "id": "560e6216",
   "metadata": {},
   "source": [
    "# Welcome Computer Scientists!\n",
    "## Scroll through this guide to learn computer science basics and how to trouble shoot if you have issues!"
   ]
  },
  {
   "cell_type": "markdown",
   "id": "a924f301",
   "metadata": {},
   "source": [
    "## 🐍 What if venv isn't working?\n",
    "\n",
    "Virtual environments (`venv`) are essential in Python projects because they keep your dependencies isolated. But sometimes, they just **don’t work the way you expect** — whether that’s in the terminal, or inside VS Code.\n",
    "\n",
    "Here’s a quick walkthrough using an example with Alice, plus some common fixes.\n",
    "\n",
    "---\n",
    "\n",
    "### ✅ Step 1: Create and Activate a venv\n",
    "\n",
    "First, make sure you’re inside your project folder:\n",
    "\n",
    "```bash\n",
    "cd myproject"
   ]
  },
  {
   "cell_type": "markdown",
   "id": "578f8751",
   "metadata": {},
   "source": [
    "# 🛠️ What if make isn't working?\n",
    "\n",
    "### 1. Install `make`\n",
    "- **Linux:** `sudo apt-get install build-essential`  \n",
    "- **macOS:** `xcode-select --install`  \n",
    "- **Windows:** use **WSL** (best) or MSYS2 / Cygwin  \n",
    "\n",
    "---\n",
    "\n",
    "### 2. Common Errors & Fixes\n",
    "\n",
    "❌Error message: `make: command not found`  \n",
    "➡️ Install `make` (see above)\n",
    "\n",
    "❌Error message: `make: *** No targets specified and no makefile found. Stop.`  \n",
    "➡️ Run `ls` → make sure you see `Makefile`  \n",
    "➡️ If not, `cd` into the correct project folder  \n",
    "\n",
    "❌Error message:`make: *** missing separator.  Stop.`  \n",
    "➡️ Your Makefile uses **spaces** instead of **tabs**  \n",
    "➡️ Fix by replacing spaces with a **tab** at the start of each command  \n",
    "\n",
    "❌Error message: Python not running inside `make`  \n",
    "➡️ Check Python: `python --version` or `python3 --version`  \n",
    "➡️ Make sure to activate virtual env:  \n",
    "```bash\n",
    "source venv/bin/activate      # macOS/Linux\n",
    ".\\venv\\Scripts\\activate       # Windows\n"
   ]
  }
 ],
 "metadata": {
  "language_info": {
   "name": "python"
  }
 },
 "nbformat": 4,
 "nbformat_minor": 5
}
