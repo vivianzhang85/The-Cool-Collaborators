{
 "cells": [
  {
   "cell_type": "markdown",
   "id": "560e6216",
   "metadata": {},
   "source": [
    "## Welcome Computer Scientists!\n",
    "### Scroll through this guide to learn computer science basics and how to trouble shoot if you have issues!"
   ]
  }
 ],
 "metadata": {
  "language_info": {
   "name": "python"
  }
 },
 "nbformat": 4,
 "nbformat_minor": 5
}
