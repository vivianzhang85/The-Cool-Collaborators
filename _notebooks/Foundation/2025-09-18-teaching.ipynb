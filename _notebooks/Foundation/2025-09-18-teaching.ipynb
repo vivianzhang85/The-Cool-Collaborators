{
 "cells": [
  {
   "cell_type": "markdown",
   "id": "1f6f818b",
   "metadata": {},
   "source": [
    "---\n",
    "layout: post\n",
    "title: Fixing Issues Blog\n",
    "permalink: /issuesblog\n",
    "---"
   ]
  },
  {
   "cell_type": "markdown",
   "id": "d844046f",
   "metadata": {},
   "source": [
    "## 📚 Teaching Section (Brandon)\n",
    "### Foundational Coding Tools and Workflows  \n",
    "\n",
    "This guide covers the basics of setting up your development environment, using Git, organizing projects, and collaborating effectively.  \n",
    "\n",
    "---\n",
    "\n",
    "## 1. 🛠 Git Commands  \n",
    "**Problem:** You’re new to Git and don’t know the basics.  \n",
    "\n",
    "**Fix:** Learn these essential commands:  \n",
    "```bash\n",
    "# Clone a repo\n",
    "git clone <repo-url>\n",
    "\n",
    "# Create and switch to a new branch\n",
    "git checkout -b my-feature\n",
    "\n",
    "# Stage changes\n",
    "git add <file>\n",
    "\n",
    "# Commit changes with a message\n",
    "git commit -m \"Add feature\"\n",
    "\n",
    "# Push changes to remote branch\n",
    "git push origin my-feature\n",
    "\n",
    "# Pull latest changes from main\n",
    "git pull origin main\n"
   ]
  }
 ],
 "metadata": {
  "kernelspec": {
   "display_name": "venv (3.13.7)",
   "language": "python",
   "name": "python3"
  },
  "language_info": {
   "codemirror_mode": {
    "name": "ipython",
    "version": 3
   },
   "file_extension": ".py",
   "mimetype": "text/x-python",
   "name": "python",
   "nbconvert_exporter": "python",
   "pygments_lexer": "ipython3",
   "version": "3.13.7"
  }
 },
 "nbformat": 4,
 "nbformat_minor": 5
}
