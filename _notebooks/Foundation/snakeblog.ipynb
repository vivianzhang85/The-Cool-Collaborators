{
 "cells": [
  {
   "cell_type": "markdown",
   "id": "603d8fc3",
   "metadata": {},
   "source": [
    "# Adding Hacks to Snake Game Blog \n",
    "### I first easily figured out how to change the background color of the game by simply replacing “royal blue” with “red” in the “ctx.fillStyle” line.\n"
   ]
  },
  {
   "cell_type": "code",
   "execution_count": null,
   "id": "b651bf68",
   "metadata": {
    "vscode": {
     "languageId": "plaintext"
    }
   },
   "outputs": [],
   "source": [
    "ctx.fillStyle = \"red\";"
   ]
  },
  {
   "cell_type": "markdown",
   "id": "55e2443d",
   "metadata": {},
   "source": [
    "###  Next, changing the color of the snake and the food took some time because at first the edit I made in the code made it so that the snake and the food disappeared. After some troubleshooting, I realized I had to allow custom colors, as seen below. After doing this, I changed the snake to lime green and the food to dark green."
   ]
  },
  {
   "cell_type": "code",
   "execution_count": null,
   "id": "173b91df",
   "metadata": {
    "vscode": {
     "languageId": "plaintext"
    }
   },
   "outputs": [],
   "source": [
    "// Updated activeDot function to allow custom colors\n",
    "let activeDot = function(x, y, color=\"#FFFFFF\"){\n",
    "    ctx.fillStyle = color;\n",
    "    ctx.fillRect(x * BLOCK, y * BLOCK, BLOCK, BLOCK);\n",
    "}"
   ]
  },
  {
   "cell_type": "markdown",
   "id": "94b0a59c",
   "metadata": {},
   "source": [
    "\n",
    "### Then, I increased the length the snake gains after eating each food from 1 block to 3 blocks by inserting the code below.\n",
    "\n"
   ]
  },
  {
   "cell_type": "code",
   "execution_count": null,
   "id": "848eba18",
   "metadata": {
    "vscode": {
     "languageId": "plaintext"
    }
   },
   "outputs": [],
   "source": [
    "for (let i = 0; i < 3; i++) {\n",
    "    snake.push({x: snake[0].x, y: snake[0].y});\n",
    "}\n"
   ]
  },
  {
   "cell_type": "markdown",
   "id": "21d861a2",
   "metadata": {},
   "source": [
    "### After that, I increased the snakes speed from 150 to 20 by changing “150” to “20”"
   ]
  },
  {
   "cell_type": "code",
   "execution_count": null,
   "id": "258a802f",
   "metadata": {
    "vscode": {
     "languageId": "plaintext"
    }
   },
   "outputs": [],
   "source": [
    "setSnakeSpeed(20);"
   ]
  },
  {
   "cell_type": "markdown",
   "id": "a3e13654",
   "metadata": {},
   "source": [
    "### I also allowed the snake to be controlled by the WASD keys instead of just the arrows with the code below."
   ]
  },
  {
   "cell_type": "code",
   "execution_count": null,
   "id": "77ee5b52",
   "metadata": {
    "vscode": {
     "languageId": "plaintext"
    }
   },
   "outputs": [],
   "source": [
    "let changeDir = function(key){\n",
    "    // test key and switch direction\n",
    "    switch(key) {\n",
    "        case 37:    // left arrow\n",
    "        case 65:    // 'A'\n",
    "            if (snake_dir !== 1)    // not right\n",
    "                snake_next_dir = 3; // switch left\n",
    "            break;\n",
    "        case 38:    // up arrow\n",
    "        case 87:    // 'W'\n",
    "            if (snake_dir !== 2)    // not down\n",
    "                snake_next_dir = 0; // switch up\n",
    "            break;\n",
    "        case 39:    // right arrow\n",
    "        case 68:    // 'D'\n",
    "            if (snake_dir !== 3)    // not left\n",
    "                snake_next_dir = 1; // switch right\n",
    "            break;\n",
    "        case 40:    // down arrow\n",
    "        case 83:    // 'S'\n",
    "            if (snake_dir !== 0)    // not up\n",
    "                snake_next_dir = 2; // switch down\n",
    "            break;\n",
    "    }\n",
    "}\n"
   ]
  },
  {
   "cell_type": "markdown",
   "id": "95c014fe",
   "metadata": {},
   "source": [
    "### Then, I made the snake glow green to add some special effects using the code below."
   ]
  },
  {
   "cell_type": "code",
   "execution_count": null,
   "id": "b1149b40",
   "metadata": {
    "vscode": {
     "languageId": "plaintext"
    }
   },
   "outputs": [],
   "source": [
    "let activeDot = function(x, y, color=\"#FFFFFF\"){\n",
    "    ctx.fillStyle = color;\n",
    "    ctx.shadowColor = color;      // glow color\n",
    "    ctx.shadowBlur = 10;          // intensity of glow\n",
    "    ctx.fillRect(x * BLOCK, y * BLOCK, BLOCK, BLOCK);\n",
    "    ctx.shadowBlur = 0;           // reset shadow after drawing\n",
    "}"
   ]
  },
  {
   "cell_type": "markdown",
   "id": "2aa32cc8",
   "metadata": {},
   "source": [
    "### Next, I changed the gameover screen from boring black to a pretty pink color using this code:"
   ]
  },
  {
   "cell_type": "code",
   "execution_count": null,
   "id": "32716e9a",
   "metadata": {
    "vscode": {
     "languageId": "plaintext"
    }
   },
   "outputs": [],
   "source": [
    ".game-screen {\n",
    "    display: none;\n",
    "    background: #ff69b4; /* bright pink */\n",
    "    color: #fff;\n",
    "    padding: 50px;\n",
    "    border-radius: 20px;\n",
    "    text-align: center;\n",
    "    margin: 40px auto;\n",
    "    max-width: 600px;\n",
    "    font-family: 'Arial', sans-serif;\n",
    "    box-shadow: 0 0 40px rgba(255,105,180,0.8); /* glowing effect */\n",
    "}\n",
    "\n",
    ".screen-title {\n",
    "    font-size: 60px; /* BIG */\n",
    "    font-weight: bold;\n",
    "    text-shadow: 0 0 15px #fff;\n",
    "    margin-bottom: 20px;\n",
    "}\n",
    "\n",
    ".screen-instruction {\n",
    "    font-size: 24px;\n",
    "    margin-bottom: 30px;\n",
    "}\n",
    "\n",
    ".highlight-key {\n",
    "    background: #fff;\n",
    "    color: #ff69b4;\n",
    "    padding: 4px 10px;\n",
    "    border-radius: 6px;\n",
    "    font-weight: bold;\n",
    "    font-size: 18px;\n",
    "}\n",
    "\n",
    ".screen-buttons button {\n",
    "    margin: 10px;\n",
    "    padding: 15px 30px;\n",
    "    font-size: 22px;\n",
    "    border-radius: 12px;\n",
    "    border: none;\n",
    "    cursor: pointer;\n",
    "    box-shadow: 0 0 20px rgba(255,255,255,0.6);\n",
    "    transition: all 0.2s ease;\n",
    "}\n",
    "\n",
    ".btn-primary {\n",
    "    background-color: #fff;\n",
    "    color: #ff69b4;\n",
    "}\n",
    "\n",
    ".btn-primary:hover {\n",
    "    background-color: #ffd6eb;\n",
    "    box-shadow: 0 0 25px #fff;\n",
    "}\n",
    "\n",
    ".btn-secondary {\n",
    "    background-color: #ff1493;\n",
    "    color: #fff;\n",
    "}\n",
    "\n",
    ".btn-secondary:hover {\n",
    "    background-color: #ff85c1;\n",
    "    box-shadow: 0 0 25px #fff;\n",
    "}"
   ]
  },
  {
   "cell_type": "markdown",
   "id": "06218851",
   "metadata": {},
   "source": [
    "### Lastly, to challenge myself with the hard hacks, I made 3 foods available to the snake at once rather than just 1 using the code below:"
   ]
  }
 ],
 "metadata": {
  "language_info": {
   "name": "python"
  }
 },
 "nbformat": 4,
 "nbformat_minor": 5
}
