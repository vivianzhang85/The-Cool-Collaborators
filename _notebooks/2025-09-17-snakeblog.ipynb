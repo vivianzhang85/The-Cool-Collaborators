{
 "cells": [
  {
   "cell_type": "markdown",
   "id": "8f0e8206",
   "metadata": {},
   "source": [
    "---\n",
    "layout: post\n",
    "title: Snake Game Blog\n",
    "permalink: /snakeblog\n",
    "---"
   ]
  },
  {
   "cell_type": "markdown",
   "id": "603d8fc3",
   "metadata": {},
   "source": [
    "## Adding Hacks to Snake Game Blog 🎮🐍  \n",
    "#### When I first started customizing my Snake Game, I thought I was just making small tweaks. But each little hack turned into a creative challenge, and by the end, the game felt completely transformed. Here’s a look at the upgrades I made and how they brought new life to the classic Snake experience.\n"
   ]
  },
  {
   "cell_type": "markdown",
   "id": "c5d5027f",
   "metadata": {},
   "source": [
    "## 🎨 Changing the Background  \n",
    "#### The first edit was the easiest: I swapped out the boring blue background for a bold **red**. This was as simple as changing one line of code:  "
   ]
  },
  {
   "cell_type": "code",
   "execution_count": null,
   "id": "b651bf68",
   "metadata": {
    "vscode": {
     "languageId": "plaintext"
    }
   },
   "outputs": [],
   "source": [
    "ctx.fillStyle = \"red\";"
   ]
  },
  {
   "cell_type": "markdown",
   "id": "55e2443d",
   "metadata": {},
   "source": [
    "## 🐍 Snake & Food Custom Colors\n",
    "####  Next, changing the color of the snake and the food took some time because at first the edit I made in the code made it so that the snake and the food disappeared. After some troubleshooting, I realized I had to allow custom colors, as seen below. After doing this, I challenged myself with the hard hacks and made the snake red while I made the food green. "
   ]
  },
  {
   "cell_type": "code",
   "execution_count": null,
   "id": "173b91df",
   "metadata": {
    "vscode": {
     "languageId": "plaintext"
    }
   },
   "outputs": [],
   "source": [
    "// Updated activeDot function to allow custom colors\n",
    "let activeDot = function(x, y, color=\"#FFFFFF\"){\n",
    "    ctx.fillStyle = color;\n",
    "    ctx.fillRect(x * BLOCK, y * BLOCK, BLOCK, BLOCK);\n",
    "}"
   ]
  },
  {
   "cell_type": "markdown",
   "id": "94b0a59c",
   "metadata": {},
   "source": [
    "\n",
    "## ➕ Extra Growth\n",
    "#### Then, I increased the length the snake gains after eating each food from 1 block to 3 blocks by inserting the code below.\n",
    "\n"
   ]
  },
  {
   "cell_type": "code",
   "execution_count": null,
   "id": "848eba18",
   "metadata": {
    "vscode": {
     "languageId": "plaintext"
    }
   },
   "outputs": [],
   "source": [
    "\n",
    "for (let i = 0; i < 3; i++) {\n",
    "    snake.push({x: snake[0].x, y: snake[0].y});\n",
    "}\n"
   ]
  },
  {
   "cell_type": "markdown",
   "id": "21d861a2",
   "metadata": {},
   "source": [
    "## ⚡ Speed Boost\n",
    "### Why play slow when you can play fast? I cranked the snake’s speed from 150 down to 20, making the game way more intense:\n"
   ]
  },
  {
   "cell_type": "code",
   "execution_count": null,
   "id": "258a802f",
   "metadata": {
    "vscode": {
     "languageId": "plaintext"
    }
   },
   "outputs": [],
   "source": [
    "setSnakeSpeed(20);"
   ]
  },
  {
   "cell_type": "markdown",
   "id": "a3e13654",
   "metadata": {},
   "source": [
    "## ⌨️ WASD Controls\n",
    "#### I also allowed the snake to be controlled by the WASD keys instead of just the arrows with the code below."
   ]
  },
  {
   "cell_type": "code",
   "execution_count": null,
   "id": "77ee5b52",
   "metadata": {
    "vscode": {
     "languageId": "plaintext"
    }
   },
   "outputs": [],
   "source": [
    "let changeDir = function(key){\n",
    "    // test key and switch direction\n",
    "    switch(key) {\n",
    "        case 37:    // left arrow\n",
    "        case 65:    // 'A'\n",
    "            if (snake_dir !== 1)    // not right\n",
    "                snake_next_dir = 3; // switch left\n",
    "            break;\n",
    "        case 38:    // up arrow\n",
    "        case 87:    // 'W'\n",
    "            if (snake_dir !== 2)    // not down\n",
    "                snake_next_dir = 0; // switch up\n",
    "            break;\n",
    "        case 39:    // right arrow\n",
    "        case 68:    // 'D'\n",
    "            if (snake_dir !== 3)    // not left\n",
    "                snake_next_dir = 1; // switch right\n",
    "            break;\n",
    "        case 40:    // down arrow\n",
    "        case 83:    // 'S'\n",
    "            if (snake_dir !== 0)    // not up\n",
    "                snake_next_dir = 2; // switch down\n",
    "            break;\n",
    "    }\n",
    "}\n"
   ]
  },
  {
   "cell_type": "markdown",
   "id": "95c014fe",
   "metadata": {},
   "source": [
    "## ✨ Glow Effect\n",
    "#### To give the snake some personality, I added a green glow effect. Now, it doesn’t just slither—it shines:"
   ]
  },
  {
   "cell_type": "code",
   "execution_count": null,
   "id": "b1149b40",
   "metadata": {
    "vscode": {
     "languageId": "plaintext"
    }
   },
   "outputs": [],
   "source": [
    "let activeDot = function(x, y, color=\"#FFFFFF\"){\n",
    "    ctx.fillStyle = color;\n",
    "    ctx.shadowColor = color;      // glow color\n",
    "    ctx.shadowBlur = 10;          // intensity of glow\n",
    "    ctx.fillRect(x * BLOCK, y * BLOCK, BLOCK, BLOCK);\n",
    "    ctx.shadowBlur = 0;           // reset shadow after drawing\n",
    "}"
   ]
  },
  {
   "cell_type": "markdown",
   "id": "2aa32cc8",
   "metadata": {},
   "source": [
    "## 💖 Game Over Turned Pink\n",
    "#### Finally, I completely redesigned the game over screen. Instead of plain black, it now pops with bright pink, glowing effects, and polished buttons. The new UI feels playful and modern, making losing almost fun!"
   ]
  },
  {
   "cell_type": "code",
   "execution_count": null,
   "id": "32716e9a",
   "metadata": {
    "vscode": {
     "languageId": "plaintext"
    }
   },
   "outputs": [],
   "source": [
    ".game-screen {\n",
    "    display: none;\n",
    "    background: #ff69b4; /* bright pink */\n",
    "    color: #fff;\n",
    "    padding: 50px;\n",
    "    border-radius: 20px;\n",
    "    text-align: center;\n",
    "    margin: 40px auto;\n",
    "    max-width: 600px;\n",
    "    font-family: 'Arial', sans-serif;\n",
    "    box-shadow: 0 0 40px rgba(255,105,180,0.8); /* glowing effect */\n",
    "}\n",
    "\n",
    ".screen-title {\n",
    "    font-size: 60px; /* BIG */\n",
    "    font-weight: bold;\n",
    "    text-shadow: 0 0 15px #fff;\n",
    "    margin-bottom: 20px;\n",
    "}\n",
    "\n",
    ".screen-instruction {\n",
    "    font-size: 24px;\n",
    "    margin-bottom: 30px;\n",
    "}\n",
    "\n",
    ".highlight-key {\n",
    "    background: #fff;\n",
    "    color: #ff69b4;\n",
    "    padding: 4px 10px;\n",
    "    border-radius: 6px;\n",
    "    font-weight: bold;\n",
    "    font-size: 18px;\n",
    "}\n",
    "\n",
    ".screen-buttons button {\n",
    "    margin: 10px;\n",
    "    padding: 15px 30px;\n",
    "    font-size: 22px;\n",
    "    border-radius: 12px;\n",
    "    border: none;\n",
    "    cursor: pointer;\n",
    "    box-shadow: 0 0 20px rgba(255,255,255,0.6);\n",
    "    transition: all 0.2s ease;\n",
    "}\n",
    "\n",
    ".btn-primary {\n",
    "    background-color: #fff;\n",
    "    color: #ff69b4;\n",
    "}\n",
    "\n",
    ".btn-primary:hover {\n",
    "    background-color: #ffd6eb;\n",
    "    box-shadow: 0 0 25px #fff;\n",
    "}\n",
    "\n",
    ".btn-secondary {\n",
    "    background-color: #ff1493;\n",
    "    color: #fff;\n",
    "}\n",
    "\n",
    ".btn-secondary:hover {\n",
    "    background-color: #ff85c1;\n",
    "    box-shadow: 0 0 25px #fff;\n",
    "}"
   ]
  },
  {
   "cell_type": "markdown",
   "id": "c12dd212",
   "metadata": {},
   "source": [
    "## Here's a link to my updated snake game with all the hacks added:\n",
    "[Play my Snake Game](https://vivianzhang85.github.io/The-Cool-Collaborators/snake/)"
   ]
  },
  {
   "cell_type": "markdown",
   "id": "efaec80b",
   "metadata": {},
   "source": [
    "## 🌟 Final Thoughts\n",
    "#### Through these hacks, I realized how a few lines of code can transform a simple game into something unique and exciting. From basic color swaps to UI overhauls, every tweak made the Snake Game feel more like my own creation."
   ]
  }
 ],
 "metadata": {
  "language_info": {
   "name": "python"
  }
 },
 "nbformat": 4,
 "nbformat_minor": 5
}
