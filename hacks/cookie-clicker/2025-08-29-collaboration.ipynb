{
 "cells": [
  {
   "cell_type": "markdown",
   "id": "e1dec388",
   "metadata": {},
   "source": [
    "# Collaborative Exercise: Cookie Clicker Feature Expansion\n",
    "\n",
    "This notebook will assign roles at random and guide three students through a **6-step coding task**:  \n",
    "**Adding a new shop item to the Cookie Clicker game.**\n",
    "\n",
    "Each student is responsible for **two steps**, and the feature won’t work unless all parts are completed.\n",
    "\n",
    "---"
   ]
  },
  {
   "cell_type": "code",
   "execution_count": 2,
   "id": "29dce0f1",
   "metadata": {},
   "outputs": [
    {
     "name": "stdout",
     "output_type": "stream",
     "text": [
      "Random Assignment\n",
      "Charlie → Steps 1 & 4\n",
      "Bob → Steps 2 & 5\n",
      "Alice → Steps 3 & 6\n"
     ]
    }
   ],
   "source": [
    "\n",
    "## Step 0 — Assign Roles\n",
    "\n",
    "## Run this cell to randomly assign students to roles:\n",
    "\n",
    "import random\n",
    "\n",
    "# Enter student names here:\n",
    "students = [\"Alice\", \"Bob\", \"Charlie\"]  # <-- change names before running\n",
    "\n",
    "roles = {\n",
    "    \"Steps 1 & 4\": None,\n",
    "    \"Steps 2 & 5\": None,\n",
    "    \"Steps 3 & 6\": None\n",
    "}\n",
    "\n",
    "random.shuffle(students)\n",
    "for i, role in enumerate(roles.keys()):\n",
    "    roles[role] = students[i]\n",
    "\n",
    "print(\"Random Assignment\")\n",
    "for role, student in roles.items():\n",
    "    print(f\"{student} → {role}\")\n"
   ]
  },
  {
   "cell_type": "code",
   "execution_count": null,
   "id": "050ebdaf",
   "metadata": {},
   "outputs": [
    {
     "name": "stdout",
     "output_type": "stream",
     "text": [
      "This step is assigned to: Charlie\n",
      "✅ Step 1 complete!\n"
     ]
    }
   ],
   "source": [
    "# Step 1\n",
    "print(\"This step is assigned to:\", roles[\"Steps 1 & 4\"])\n",
    "\n",
    "#Add this inside your shop-container below the other buttons:\n",
    "#<button id=\"pizzaOvenBtn\"\n",
    "#    class=\"bg-red-500 hover:bg-red-600 text-white px-4 py-2 mb-2 rounded shadow\">\n",
    "#   Milk (Cost: 1000)\n",
    "#</button>\n",
    "\n"
   ]
  },
  {
   "cell_type": "markdown",
   "id": "8cde66ea",
   "metadata": {},
   "source": [
    "Checkpoint: Open the game in the browser — do you see a new “Pizza Oven” button?\n",
    "If not, don’t continue."
   ]
  },
  {
   "cell_type": "code",
   "execution_count": 47,
   "id": "4df613c8",
   "metadata": {
    "vscode": {
     "languageId": "javascript"
    }
   },
   "outputs": [
    {
     "ename": "SyntaxError",
     "evalue": "unterminated string literal (detected at line 13) (2306071787.py, line 13)",
     "output_type": "error",
     "traceback": [
      "  \u001b[36mCell\u001b[39m\u001b[36m \u001b[39m\u001b[32mIn[47]\u001b[39m\u001b[32m, line 13\u001b[39m\n\u001b[31m    \u001b[39m\u001b[31m// Call the object's method to show its behavior\u001b[39m\n                      ^\n\u001b[31mSyntaxError\u001b[39m\u001b[31m:\u001b[39m unterminated string literal (detected at line 13)\n"
     ]
    }
   ],
   "source": [
    "// 1. Class & Object\n",
    "// Define a class (blueprint for objects)\n",
    "class Animal {\n",
    "  // Constructor sets up object state\n",
    "  constructor(name) { this.name = name; }\n",
    "  // Method for behavior\n",
    "  speak() { console.log(this.name + \" makes a sound.\"); }\n",
    "}\n",
    "\n",
    "// Create an object (instance) from the class\n",
    "const dog = new Animal(\"Dog\");\n",
    "\n",
    "// Call the object's method to show its behavior\n",
    "// Output: Dog makes a sound.\n",
    "dog.speak();\n",
    "// Define a class (blueprint for objects)\n",
    "class Animal {\n",
    "  // Constructor sets up object state\n",
    "  constructor(name) { this.name = name; }\n",
    "  // Method for behavior\n",
    "  speak() { console.log(this.name + \" makes a sound.\"); }\n",
    "}\n",
    "\n",
    "// Create an object (instance) from the class\n",
    "const dog = new Animal(\"Dog\");\n",
    "\n",
    "// Call the object's method to show its behavior\n",
    "// Output: Dog makes a sound.\n",
    "dog.speak();\n",
    "\n",
    "\n",
    "// 2. Encapsulation\n",
    "// Class to encapsulate data\n",
    "class Counter {\n",
    "  // Private property (hidden from outside)\n",
    "  #count = 0;\n",
    "  // Method to safely change data\n",
    "  increment() { this.#count++; }\n",
    "  // Method to safely access data\n",
    "  getCount() { return this.#count; }\n",
    "}\n",
    "\n",
    "// Create a Counter object\n",
    "const c = new Counter();\n",
    "// Use method to change private data\n",
    "c.increment();\n",
    "// Access private data via method\n",
    "console.log(\"Encapsulation:\", c.getCount());\n",
    "\n",
    "\n",
    "// 3. Inheritance\n",
    "// Bird inherits from Animal\n",
    "class Bird extends Animal {\n",
    "  // Override method\n",
    "  speak() { console.log(this.name + \" chirps.\"); }\n",
    "}\n",
    "\n",
    "// Create a Bird object\n",
    "const parrot = new Bird(\"Parrot\");\n",
    "// Output: Parrot chirps.\n",
    "parrot.speak();\n",
    "\n",
    "\n",
    "// 4. Polymorphism\n",
    "// Function works for any object with .speak()\n",
    "function makeItSpeak(animal) {\n",
    "  // Calls the correct method based on object type\n",
    "  animal.speak();\n",
    "}\n",
    "\n",
    "// Output: Dog makes a sound.\n",
    "makeItSpeak(dog);\n",
    "// Output: Parrot chirps.\n",
    "makeItSpeak(parrot);\n"
   ]
  }
 ],
 "metadata": {
  "kernelspec": {
   "display_name": "venv",
   "language": "python",
   "name": "python3"
  },
  "language_info": {
   "codemirror_mode": {
    "name": "ipython",
    "version": 3
   },
   "file_extension": ".py",
   "mimetype": "text/x-python",
   "name": "python",
   "nbconvert_exporter": "python",
   "pygments_lexer": "ipython3",
   "version": "3.12.3"
  }
 },
 "nbformat": 4,
 "nbformat_minor": 5
}
